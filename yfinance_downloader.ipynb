{
  "nbformat": 4,
  "nbformat_minor": 0,
  "metadata": {
    "colab": {
      "provenance": [],
      "toc_visible": true,
      "include_colab_link": true
    },
    "kernelspec": {
      "name": "python3",
      "display_name": "Python 3"
    },
    "language_info": {
      "name": "python"
    }
  },
  "cells": [
    {
      "cell_type": "markdown",
      "metadata": {
        "id": "view-in-github",
        "colab_type": "text"
      },
      "source": [
        "<a href=\"https://colab.research.google.com/github/pavanghai/GoogleColab/blob/main/yfinance_downloader.ipynb\" target=\"_parent\"><img src=\"https://colab.research.google.com/assets/colab-badge.svg\" alt=\"Open In Colab\"/></a>"
      ]
    },
    {
      "cell_type": "markdown",
      "source": [
        "## Dependencies"
      ],
      "metadata": {
        "id": "Xxp58o6ie3aD"
      }
    },
    {
      "cell_type": "markdown",
      "source": [
        "Google collab already has yfinance, if not available uncomment below comments and execute"
      ],
      "metadata": {
        "id": "nVPF4NqQ3nHp"
      }
    },
    {
      "cell_type": "code",
      "source": [
        "# !pip install --help"
      ],
      "metadata": {
        "id": "S71tDZ_YPll0"
      },
      "execution_count": null,
      "outputs": []
    },
    {
      "cell_type": "code",
      "execution_count": null,
      "metadata": {
        "id": "yMAkiKqxehdD"
      },
      "outputs": [],
      "source": [
        "# !pip install -q -U yfinance"
      ]
    },
    {
      "cell_type": "markdown",
      "source": [
        "## Download Assets and Export to CSV ( Single asset per csv file)"
      ],
      "metadata": {
        "id": "-JCVrtvue4--"
      }
    },
    {
      "cell_type": "code",
      "source": [
        "# get the symbols for the asset from yahoo finance website\n",
        "symbols = ('MO','WU','VZ',)"
      ],
      "metadata": {
        "id": "hWKJWvlHeuw2"
      },
      "execution_count": null,
      "outputs": []
    },
    {
      "cell_type": "code",
      "source": [
        "# input the history span here\n",
        "from_date, to_date = \"2022-01-01\", \"2024-7-28\""
      ],
      "metadata": {
        "id": "oVWEGqSYe2Lw"
      },
      "execution_count": null,
      "outputs": []
    },
    {
      "cell_type": "code",
      "source": [
        "import yfinance as yf\n",
        "\n",
        "for each in symbols:\n",
        "  name = f\"{each}.csv\"\n",
        "  name_div = f\"{each}_div.csv\"\n",
        "  # Fetch stock Price data\n",
        "  data = yf.download(each, start=from_date, end=to_date).round(3)\n",
        "  data.to_csv(name)\n",
        "\n",
        "  # Fetch Dividend data : Added this section with help of AI\n",
        "  ticker = yf.Ticker(each) # TODO: fix date format\n",
        "  dividends = ticker.dividends\n",
        "  dividends = dividends[dividends.index >= from_date]\n",
        "  dividends.to_csv(name_div)"
      ],
      "metadata": {
        "colab": {
          "base_uri": "https://localhost:8080/"
        },
        "id": "dTSGzaAvfGAR",
        "outputId": "57aed127-7c77-4d40-8e23-76ba67fdec62"
      },
      "execution_count": null,
      "outputs": [
        {
          "output_type": "stream",
          "name": "stderr",
          "text": [
            "[*********************100%%**********************]  1 of 1 completed\n",
            "[*********************100%%**********************]  1 of 1 completed\n",
            "[*********************100%%**********************]  1 of 1 completed\n"
          ]
        }
      ]
    },
    {
      "cell_type": "code",
      "source": [],
      "metadata": {
        "id": "GPfq0ITCx0Lf"
      },
      "execution_count": null,
      "outputs": []
    },
    {
      "cell_type": "code",
      "source": [],
      "metadata": {
        "id": "eRRFCv0_ttbs"
      },
      "execution_count": null,
      "outputs": []
    }
  ]
}